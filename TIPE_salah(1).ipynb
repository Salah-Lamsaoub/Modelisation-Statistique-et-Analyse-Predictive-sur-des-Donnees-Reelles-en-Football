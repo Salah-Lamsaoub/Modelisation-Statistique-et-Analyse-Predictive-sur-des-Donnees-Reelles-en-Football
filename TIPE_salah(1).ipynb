{
  "nbformat": 4,
  "nbformat_minor": 0,
  "metadata": {
    "colab": {
      "provenance": []
    },
    "kernelspec": {
      "name": "python3",
      "display_name": "Python 3"
    },
    "language_info": {
      "name": "python"
    }
  },
  "cells": [
    {
      "cell_type": "markdown",
      "source": [
        "# <h1><center>**TIPE: Poisson modelisation of goals scored Home/Away**</center></h1>\n",
        "\n",
        "<h4>\n",
        "<hr style=\" border:none; height:3px;\">\n",
        "<center>Salah LAMSAOUB & Université de Paris-Saclay</center>\n",
        "<hr style=\" border:none; height:3px;\">\n",
        "</h4>"
      ],
      "metadata": {
        "id": "pqsgJvwZfH17"
      }
    },
    {
      "cell_type": "code",
      "execution_count": null,
      "metadata": {
        "id": "sJrKuHACb0aB"
      },
      "outputs": [],
      "source": [
        "import pandas as pd\n",
        "import numpy as np\n",
        "from scipy import stats\n",
        "import plotly.express as px\n",
        "#rng = np.random.default_rng()\n",
        "#stats.kstest(stats.uniform.rvs(size=100, random_state=rng),\n",
        "             #stats.norm.cdf)\n",
        "pd.options.display.max_columns = None\n",
        "pd.options.display.max_rows = None"
      ]
    },
    {
      "cell_type": "code",
      "source": [
        "gamesDf = pd.read_csv( \"/content/games.csv\" )"
      ],
      "metadata": {
        "id": "vyEgVPbSdgyt"
      },
      "execution_count": null,
      "outputs": []
    },
    {
      "cell_type": "code",
      "source": [
        "#clubsDf = pd.read_csv( \"/content/clubs.csv\" )"
      ],
      "metadata": {
        "id": "7k53B3Dnd2jW"
      },
      "execution_count": null,
      "outputs": []
    },
    {
      "cell_type": "code",
      "source": [
        "gamesDf.head()"
      ],
      "metadata": {
        "id": "7AM5QZofej4x"
      },
      "execution_count": null,
      "outputs": []
    },
    {
      "cell_type": "markdown",
      "source": [
        "Bundesliga : L1\n",
        "Ligue 1 ubereats : FR1\n",
        "Premier Ligue : GB1\n",
        "\n"
      ],
      "metadata": {
        "id": "CbixwLzyh79I"
      }
    },
    {
      "cell_type": "markdown",
      "source": [
        "# <h2>I) Preprocessing </h2>"
      ],
      "metadata": {
        "id": "fjYupPRWlADg"
      }
    },
    {
      "cell_type": "code",
      "source": [
        "def filter_matchs( team, home_away = 'home_club_name' ):\n",
        "\n",
        "  filtre = ( gamesDf[home_away] == team )\n",
        "  filtered_df = gamesDf[ filtre ]\n",
        "\n",
        "  return filtered_df.sort_values('date')"
      ],
      "metadata": {
        "id": "byMF0xpjhD-V"
      },
      "execution_count": null,
      "outputs": []
    },
    {
      "cell_type": "code",
      "source": [
        "psg = filter_matchs( 'Paris Saint-Germain Football Club')"
      ],
      "metadata": {
        "id": "7E2HuLBeYayU"
      },
      "execution_count": null,
      "outputs": []
    },
    {
      "cell_type": "code",
      "source": [
        "from collections import defaultdict\n",
        "def get_region(team ):\n",
        "  filtre = ( gamesDf['away_club_name'] == team )\n",
        "  df = gamesDf[ filtre ]\n",
        "  dico = defaultdict(lambda:[])\n",
        "  for n in [ -50, -df.shape[0] ]:\n",
        "    l = df['home_club_goals'][n:].mean()\n",
        "    sigma = l**0.5\n",
        "    region = '+/_ ' + '%.2f' % ( 1.96 * sigma/ (-2*n)**0.5 )\n",
        "    dico['Équipe'].append( team + ' Away' )\n",
        "    dico['lambda'].append( l )\n",
        "    dico['Nb de matchs'].append( -2*n )\n",
        "    dico['Écart type'].append( sigma )\n",
        "    dico['Région de confiance'].append( region )\n",
        "\n",
        "  return pd.DataFrame(dico)"
      ],
      "metadata": {
        "id": "x99befn0Ysl6"
      },
      "execution_count": null,
      "outputs": []
    },
    {
      "cell_type": "code",
      "source": [
        "les = []\n",
        "for team in [ 'Paris Saint-Germain Football Club', 'Olympique Lyonnais', 'Olympique de Marseille' ]:\n",
        "  les.append( get_region(team ) )"
      ],
      "metadata": {
        "id": "VsyJy2rtbpc1"
      },
      "execution_count": null,
      "outputs": []
    },
    {
      "cell_type": "code",
      "source": [
        "x = pd.concat(les)\n",
        "x.groupby(by = ['Équipe', 'Nb de matchs'])"
      ],
      "metadata": {
        "id": "DlQhV5iscODg"
      },
      "execution_count": null,
      "outputs": []
    },
    {
      "cell_type": "code",
      "source": [
        "x"
      ],
      "metadata": {
        "id": "muWQYu0hcntu"
      },
      "execution_count": null,
      "outputs": []
    },
    {
      "cell_type": "code",
      "source": [
        "df = gamesDf[ gamesDf['competition_id'] == 'FR1' ]\n",
        "set( df.home_club_name )"
      ],
      "metadata": {
        "id": "wxSMpPo2ldEE"
      },
      "execution_count": null,
      "outputs": []
    },
    {
      "cell_type": "code",
      "source": [
        "team = 'Paris Saint-Germain Football Club'\n",
        "ligue = 'FR1'\n",
        "saisons = [2012, 2013, 2014, 2015, 2016, 2017, 2018, 2019, 2020, 2021, 2022, 2023]\n",
        "\n",
        "psg_games_df = filter_matchs( team, ligue, saisons, home_away = 'home_club_name' )"
      ],
      "metadata": {
        "id": "mZQQib2hksrY"
      },
      "execution_count": null,
      "outputs": []
    },
    {
      "cell_type": "code",
      "source": [
        "from scipy.stats import kstest, poisson\n",
        "import plotly.graph_objects as go\n",
        "\n",
        "def perform_ks_test(df):\n",
        "    # Step 1: Calculate the parameter for the Poisson distribution (lambda = mean of home_club_goals)\n",
        "    lambda_ = df['home_club_goals'].mean()\n",
        "    # Step 2: Perform the Kolmogorov-Smirnov test\n",
        "    # Generating a Poisson distribution based on the calculated lambda\n",
        "    # Comparing it to the observed data\n",
        "    ks_statistic, p_value = kstest(df['home_club_goals'], 'poisson', args=(lambda_,))\n",
        "\n",
        "    # Step 3: Plotting the distribution of home_club_goals and the fitted Poisson distribution\n",
        "    # Create a histogram of the data\n",
        "    data_hist = go.Histogram(x=df['home_club_goals'], nbinsx=30, opacity=0.75, name='Data', histnorm = 'probability' )\n",
        "\n",
        "    # Create a scatter plot for the Poisson distribution\n",
        "    x_vals = np.arange(0, df['home_club_goals'].max()+1)\n",
        "    poisson_probs = poisson.pmf(x_vals, lambda_)\n",
        "    fitted_dist = go.Scatter(x=x_vals, y=poisson_probs, name='Poisson Fit', marker=dict(color='red'))\n",
        "\n",
        "    # Combine plots\n",
        "    fig = go.Figure(data=[data_hist, fitted_dist])\n",
        "    fig.update_layout(title=\"Home Club Goals and Fitted Poisson Distribution\",\n",
        "                      xaxis_title=\"Goals\",\n",
        "                      yaxis_title=\"Probability\")\n",
        "    fig.show()\n",
        "\n",
        "    return ks_statistic, p_value\n"
      ],
      "metadata": {
        "id": "kTedG6uIordf"
      },
      "execution_count": null,
      "outputs": []
    },
    {
      "cell_type": "code",
      "source": [
        "perform_ks_test( psg_games_df )"
      ],
      "metadata": {
        "id": "KTCgLv78rNCW"
      },
      "execution_count": null,
      "outputs": []
    },
    {
      "cell_type": "code",
      "source": [
        "def compare_possion_home_away( league, team, seasons ):\n",
        "  filtre_1 = ( gamesDf['competition_id'] == ligue ) & ( gamesDf['season'].isin( seasons ) )\n",
        "  filter_home = ( gamesDf['home_club_name'] == team )\n",
        "  filter_away = ( gamesDf['away_club_name'] == team  )\n",
        "  df_home = gamesDf[ filtre_1 & filter_home ]\n",
        "  df_away = gamesDf[ filtre_1 & filter_away ]\n",
        "\n",
        "  home_goals = df_home['home_club_goals'][:-10]\n",
        "  away_goals = df_away['home_club_goals'][:-10]\n",
        "\n",
        "  lambda_home = home_goals.mean()\n",
        "  lambda_away = away_goals.mean()\n",
        "\n",
        "  # KS TEST HOME\n",
        "  ks_statistic, p_value = kstest(home_goals, 'poisson', args=(lambda_home,))\n",
        "  print( team + ' KOLMOGOROV TEST HOME GOALS KS STATISTIC : ', ks_statistic )\n",
        "  print( team + ' KOLMOGOROV TEST HOME GOALS P-Value : ', p_value )\n",
        "\n",
        "  # KS TEST AWAY\n",
        "  ks_statistic, p_value = kstest(away_goals, 'poisson', args=(lambda_away,))\n",
        "  print( 'KOLMOGOROV TEST AWAY GOALS KS STATISTIC : ', ks_statistic )\n",
        "  print( 'KOLMOGOROV TEST AWAY GOALS P-Value : ', p_value )\n",
        "\n",
        "\n",
        "  data_hist_home = go.Histogram(x=home_goals, nbinsx=30, opacity=0.75, name='Data Home', histnorm = 'probability' )\n",
        "  data_hist_away = go.Histogram(x=away_goals, nbinsx=30, opacity=0.75, name='Data Away', histnorm = 'probability' )\n",
        "\n",
        "  # Create a scatter plot for the Poisson distribution\n",
        "  x_vals = np.arange(0, df['home_club_goals'].max()+1)\n",
        "  poisson_probs_home = poisson.pmf(x_vals, lambda_home)\n",
        "  poisson_probs_away = poisson.pmf(x_vals, lambda_away)\n",
        "\n",
        "  fitted_home = go.Scatter(x=x_vals, y=poisson_probs_home, name='Poisson Fit Home')\n",
        "  fitted_away = go.Scatter(x=x_vals, y=poisson_probs_away, name='Poisson Fit Away')\n",
        "\n",
        "  # Combine plots\n",
        "  fig = go.Figure(data=[data_hist_home, fitted_home, data_hist_away, fitted_away])\n",
        "  fig.update_layout(title=f\"{team} Home Club Goals and Fitted Poisson Distribution\",\n",
        "                    xaxis_title=\"Goals\",\n",
        "                    yaxis_title=\"Probability\")\n",
        "  fig.show()\n",
        "\n",
        "  return\n"
      ],
      "metadata": {
        "id": "h000_AB9uK7T"
      },
      "execution_count": null,
      "outputs": []
    },
    {
      "cell_type": "markdown",
      "source": [
        "'AC Ajaccio',\n",
        " 'AJ Auxerre',\n",
        " 'AS Nancy-Lorraine',\n",
        " 'AS Saint-Étienne',\n",
        " 'Amiens SC',\n",
        " 'Angers SCO',\n",
        " 'Association sportive de Monaco Football Club',\n",
        " 'Clermont Foot 63',\n",
        " 'Dijon FCO',\n",
        " 'EA Guingamp',\n",
        " 'ESTAC Troyes',\n",
        " 'FC Girondins Bordeaux',\n",
        " 'FC Sochaux-Montbéliard',\n",
        " 'Football Club Lorient-Bretagne Sud',\n",
        " 'Football Club de Metz',\n",
        " 'Football Club de Nantes',\n",
        " 'GFC Ajaccio',\n",
        " 'Le Havre Athletic Club',\n",
        " 'Lille Olympique Sporting Club Lille Métropole',\n",
        " 'Montpellier Hérault Sport Club',\n",
        " 'Nîmes Olympique',\n",
        " \"Olympique Gymnaste Club Nice Côte d'Azur\",\n",
        " 'Olympique Lyonnais',\n",
        " 'Olympique de Marseille',\n",
        " 'Paris Saint-Germain Football Club',\n",
        " 'Racing Club de Lens',\n",
        " 'Racing Club de Strasbourg Alsace',\n",
        " 'SC Bastia',\n",
        " 'SM Caen',\n",
        " 'Stade Rennais Football Club',\n",
        " 'Stade brestois 29',\n",
        " 'Stade de Reims',\n",
        " 'Thonon Évian Grand Genève FC',\n",
        " 'Toulouse Football Club',\n",
        " 'Valenciennes FC'}"
      ],
      "metadata": {
        "id": "-lo0R8rHxmo6"
      }
    },
    {
      "cell_type": "code",
      "source": [
        "team = 'Toulouse Football Club'\n",
        "ligue = 'FR1'\n",
        "saisons = [2012, 2013, 2014, 2015, 2016, 2017, 2018, 2019, 2020, 2021, 2022, 2023]\n",
        "compare_possion_home_away( ligue, team, saisons )\n",
        "compare_possion_home_away( ligue, 'Paris Saint-Germain Football Club', saisons )\n",
        "compare_possion_home_away( ligue, 'Olympique de Marseille', saisons )\n"
      ],
      "metadata": {
        "id": "ASSLnWKExloW"
      },
      "execution_count": null,
      "outputs": []
    },
    {
      "cell_type": "code",
      "source": [],
      "metadata": {
        "id": "k4Bt1CbaYOFU"
      },
      "execution_count": null,
      "outputs": []
    },
    {
      "cell_type": "code",
      "source": [],
      "metadata": {
        "id": "NErr6MJP_K0E"
      },
      "execution_count": null,
      "outputs": []
    },
    {
      "cell_type": "code",
      "source": [
        "def rank_pvalue(ligue, saisons):\n",
        "  filtre_1 = ( gamesDf['competition_id'] == ligue ) & ( gamesDf['season'].isin( saisons ) )\n",
        "  teams = list(set(gamesDf[filtre_1].away_club_name))\n",
        "\n",
        "  results = {\"Equipe Home/Away\" : [], \"Lambda\" : [], \"KS statistique\": [], \"P-value\": [], \"Nb de matchs\": [] }\n",
        "\n",
        "\n",
        "  for team in teams:\n",
        "    filter_2 = ( gamesDf['home_club_name'] == team )\n",
        "    df = gamesDf[ filtre_1 & filter_2 ]\n",
        "\n",
        "    home_goals = df['home_club_goals'][:-10]\n",
        "    lambda_home = home_goals.mean()\n",
        "    results[\"Equipe Home/Away\"] += [team + \" Home\"]\n",
        "    ks_statistic, p_value = kstest(home_goals, 'poisson', args=(lambda_home,))\n",
        "    results[\"Lambda\"] += [lambda_home]\n",
        "    results[\"KS statistique\"] += [ks_statistic]\n",
        "    results[\"P-value\"] += [p_value]\n",
        "    results[\"Nb de matchs\"] += [len( home_goals )]\n",
        "\n",
        "    filter_2 = ( gamesDf['away_club_name'] == team  )\n",
        "    df = gamesDf[ filtre_1 & filter_2 ]\n",
        "\n",
        "    away_goals = df['away_club_goals'][:-10]\n",
        "    lambda_away = away_goals.mean()\n",
        "    results[\"Equipe Home/Away\"] += [team + \" Away\"]\n",
        "    ks_statistic, p_value = kstest(away_goals, 'poisson', args=(lambda_away,))\n",
        "    results[\"Lambda\"] += [lambda_home]\n",
        "    results[\"KS statistique\"] += [ks_statistic]\n",
        "    results[\"P-value\"] += [p_value]\n",
        "    results[\"Nb de matchs\"] += [len( away_goals )]\n",
        "\n",
        "  return pd.DataFrame(results)"
      ],
      "metadata": {
        "id": "XZPyI2Oz0If8"
      },
      "execution_count": null,
      "outputs": []
    },
    {
      "cell_type": "code",
      "source": [
        "ranked_df = rank_pvalue('FR1', saisons)"
      ],
      "metadata": {
        "id": "yq5NPErC6Om6"
      },
      "execution_count": null,
      "outputs": []
    },
    {
      "cell_type": "code",
      "source": [
        "res = ranked_df.sort_values('P-value')"
      ],
      "metadata": {
        "id": "zZVpuKwH6gWQ"
      },
      "execution_count": null,
      "outputs": []
    },
    {
      "cell_type": "code",
      "source": [
        "res['KS statistique'] = res['KS statistique']*0.2"
      ],
      "metadata": {
        "id": "pA-fbnIuTUXU"
      },
      "execution_count": null,
      "outputs": []
    },
    {
      "cell_type": "code",
      "source": [
        "res['P-value'] = [ max( [ _*10**i for i in range(30) if _*10**i < 0.9 ] )  for _ in res['P-value'] ]"
      ],
      "metadata": {
        "id": "_FuEUh2AT2CQ"
      },
      "execution_count": null,
      "outputs": []
    },
    {
      "cell_type": "code",
      "source": [
        "res"
      ],
      "metadata": {
        "id": "P2uDhCo7TSO2"
      },
      "execution_count": null,
      "outputs": []
    },
    {
      "cell_type": "markdown",
      "source": [
        "#Poisson Regression"
      ],
      "metadata": {
        "id": "66Lg3PCZqCWA"
      }
    },
    {
      "cell_type": "code",
      "source": [
        "import statsmodels.api as sm\n",
        "import statsmodels.formula.api as smf\n"
      ],
      "metadata": {
        "id": "-M9GjiAx9Mwb"
      },
      "execution_count": null,
      "outputs": []
    },
    {
      "cell_type": "code",
      "source": [
        "def getLeague(df, ident):\n",
        "  return df[df['competition_id']==ident]\n"
      ],
      "metadata": {
        "id": "2Xzrzibpr8GC"
      },
      "execution_count": null,
      "outputs": []
    },
    {
      "cell_type": "code",
      "source": [
        "lUnUber = getLeague(gamesDf, 'FR1')"
      ],
      "metadata": {
        "id": "nCEnUgb3scsg"
      },
      "execution_count": null,
      "outputs": []
    },
    {
      "cell_type": "code",
      "source": [
        "prepareHome = lUnUber[ ['home_club_name', 'away_club_name', 'home_club_goals'] ].rename(\n",
        "    columns = {'home_club_name': 'Team', 'away_club_name':'Opponent', 'home_club_goals':'Goals'}\n",
        ")\n",
        "prepareHome['Home'] = 1\n",
        "\n",
        "prepareAway = lUnUber[ ['away_club_name', 'home_club_name', 'away_club_goals'] ].rename(\n",
        "    columns = {'home_club_name': 'Opponent', 'away_club_name':'Team', 'away_club_goals':'Goals'}\n",
        ")\n",
        "prepareAway['Away'] = 0\n",
        "\n",
        "preparedData = pd.concat( [prepareHome, prepareAway] )"
      ],
      "metadata": {
        "id": "JTp6JAO7spRl"
      },
      "execution_count": null,
      "outputs": []
    },
    {
      "cell_type": "code",
      "source": [
        "# @title Titre par défaut\n",
        "poisson_model = smf.glm(formula=\"Goals ~ Home + Team + Opponent\", data=preparedData,\n",
        "                        family=sm.families.Poisson()).fit()\n",
        "poisson_model.summary()"
      ],
      "metadata": {
        "id": "2aTKLyn2um_d",
        "cellView": "code"
      },
      "execution_count": null,
      "outputs": []
    },
    {
      "cell_type": "code",
      "source": [
        "def Match_Table( poissonModel, Home, Away, max_goals=5):\n",
        "\n",
        "    inputHome = pd.DataFrame( data={'Team': Home, 'Opponent': Away ,'Home':1}, index=[1] )\n",
        "    inputAway = pd.DataFrame(data={'Team': Away, 'Opponent': Home,'Home':0}, index=[1])\n",
        "    home_goals_avg = poissonModel.predict(inputHome).values[0]\n",
        "    away_goals_avg = poissonModel.predict(inputAway).values[0]\n",
        "    team_pred = [[poisson.pmf(i, team_avg) for i in range(0, max_goals+1)] for team_avg in [home_goals_avg, away_goals_avg]]\n",
        "    return(np.outer(np.array(team_pred[0]), np.array(team_pred[1])))*100\n"
      ],
      "metadata": {
        "id": "CiyyJkOV08B_"
      },
      "execution_count": null,
      "outputs": []
    },
    {
      "cell_type": "code",
      "source": [
        "Match_Table(poisson_model, 'Toulouse Football Club', 'Paris Saint-Germain Football Club', max_goals = 3)"
      ],
      "metadata": {
        "id": "MbwCZN2N1x7k"
      },
      "execution_count": null,
      "outputs": []
    }
  ]
}